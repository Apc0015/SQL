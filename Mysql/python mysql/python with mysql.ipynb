{
 "cells": [
  {
   "cell_type": "markdown",
   "id": "a02d2275",
   "metadata": {},
   "source": [
    "## Creating Databases in MySQL"
   ]
  },
  {
   "cell_type": "code",
   "execution_count": 3,
   "id": "1e895f91",
   "metadata": {},
   "outputs": [
    {
     "name": "stdout",
     "output_type": "stream",
     "text": [
      "<mysql.connector.connection_cext.CMySQLConnection object at 0x00000257704B4940>\n"
     ]
    }
   ],
   "source": [
    "### Create MySQL Connection\n",
    "import mysql.connector as sql\n",
    "\n",
    "connection = sql.connect(\n",
    "  host=\"localhost\",\n",
    "  user=\"root\",\n",
    "  password=\"12345\"\n",
    ")\n",
    "\n",
    "print(connection)"
   ]
  },
  {
   "cell_type": "markdown",
   "id": "0b95482b",
   "metadata": {},
   "source": [
    "## Creating Databases"
   ]
  },
  {
   "cell_type": "code",
   "execution_count": 5,
   "id": "8de71414",
   "metadata": {},
   "outputs": [],
   "source": [
    "cursor = connection.cursor()\n",
    "\n",
    "cursor.execute(\"CREATE DATABASE APC1\")"
   ]
  },
  {
   "cell_type": "code",
   "execution_count": 6,
   "id": "13ebaaf8",
   "metadata": {},
   "outputs": [],
   "source": [
    "cursor.execute('SHOW DATABASES')"
   ]
  },
  {
   "cell_type": "code",
   "execution_count": 7,
   "id": "75b3cd10",
   "metadata": {},
   "outputs": [
    {
     "name": "stdout",
     "output_type": "stream",
     "text": [
      "('apc',)\n",
      "('apc1',)\n",
      "('information_schema',)\n",
      "('mysql',)\n",
      "('performance_schema',)\n",
      "('sakila',)\n",
      "('sys',)\n",
      "('world',)\n"
     ]
    }
   ],
   "source": [
    "for database in cursor:\n",
    "    print(database)"
   ]
  },
  {
   "cell_type": "markdown",
   "id": "810a0869",
   "metadata": {},
   "source": [
    "## Execute And Drop Some Databases And Check"
   ]
  },
  {
   "cell_type": "code",
   "execution_count": null,
   "id": "14d95bfe",
   "metadata": {},
   "outputs": [],
   "source": []
  },
  {
   "cell_type": "code",
   "execution_count": null,
   "id": "4f9b63f5",
   "metadata": {},
   "outputs": [],
   "source": []
  },
  {
   "cell_type": "markdown",
   "id": "3218dab1",
   "metadata": {},
   "source": [
    "# Creating Tables And Inserting Records"
   ]
  },
  {
   "cell_type": "code",
   "execution_count": 9,
   "id": "cc32fa06",
   "metadata": {},
   "outputs": [
    {
     "name": "stdout",
     "output_type": "stream",
     "text": [
      "<mysql.connector.connection_cext.CMySQLConnection object at 0x000002577163B0A0>\n"
     ]
    }
   ],
   "source": [
    "### Create MySQL Connection And Connect\n",
    "import mysql.connector as sql\n",
    "\n",
    "connection = sql.connect(\n",
    "  host=\"localhost\",\n",
    "  user=\"root\",\n",
    "  password=\"12345\",\n",
    "  database=\"APC1\"\n",
    ")\n",
    "\n",
    "print(connection)"
   ]
  },
  {
   "cell_type": "markdown",
   "id": "ee3cc75f",
   "metadata": {},
   "source": [
    "## Create Table In MySQL using Python"
   ]
  },
  {
   "cell_type": "code",
   "execution_count": 10,
   "id": "2c8866fe",
   "metadata": {},
   "outputs": [],
   "source": [
    "cursor = connection.cursor()\n",
    "\n",
    "cursor.execute(\"CREATE TABLE studentinfo (id INT AUTO_INCREMENT PRIMARY KEY, name VARCHAR(255), subject VARCHAR(255))\")"
   ]
  },
  {
   "cell_type": "markdown",
   "id": "8c2dd874",
   "metadata": {},
   "source": [
    "## Insert Records in Table"
   ]
  },
  {
   "cell_type": "code",
   "execution_count": 11,
   "id": "40778be2",
   "metadata": {},
   "outputs": [
    {
     "name": "stdout",
     "output_type": "stream",
     "text": [
      "Row inserted 1\n"
     ]
    }
   ],
   "source": [
    "query = \"INSERT INTO studentinfo (name, subject) VALUES (%s, %s)\"\n",
    "value = (\"John\", \"Stats\")\n",
    "cursor.execute(query,value)\n",
    "print(\"Row inserted\",cursor.lastrowid)"
   ]
  },
  {
   "cell_type": "code",
   "execution_count": 12,
   "id": "aed0006e",
   "metadata": {},
   "outputs": [
    {
     "name": "stdout",
     "output_type": "stream",
     "text": [
      "Row inserted 2\n"
     ]
    }
   ],
   "source": [
    "query = \"INSERT INTO studentinfo (name, subject) VALUES (%s, %s)\"\n",
    "value = (\"AYUSH\", \"Stats\")\n",
    "cursor.execute(query,value)\n",
    "print(\"Row inserted\",cursor.lastrowid)"
   ]
  },
  {
   "cell_type": "code",
   "execution_count": 13,
   "id": "30acb7d9",
   "metadata": {},
   "outputs": [
    {
     "name": "stdout",
     "output_type": "stream",
     "text": [
      "Row inserted 3\n"
     ]
    }
   ],
   "source": [
    "query = \"INSERT INTO studentinfo (name, subject) VALUES (%s, %s)\"\n",
    "value = (\"ASHISH\", \"Stats\")\n",
    "cursor.execute(query,value)\n",
    "print(\"Row inserted\",cursor.lastrowid)"
   ]
  },
  {
   "cell_type": "code",
   "execution_count": 14,
   "id": "c618dc1a",
   "metadata": {},
   "outputs": [
    {
     "name": "stdout",
     "output_type": "stream",
     "text": [
      "Row inserted 4\n"
     ]
    }
   ],
   "source": [
    "query = \"INSERT INTO studentinfo (name, subject) VALUES (%s, %s)\"\n",
    "value = (\"AMAN\", \"PT\")\n",
    "cursor.execute(query,value)\n",
    "print(\"Row inserted\",cursor.lastrowid)"
   ]
  },
  {
   "cell_type": "code",
   "execution_count": 15,
   "id": "0361a6cd",
   "metadata": {},
   "outputs": [
    {
     "name": "stdout",
     "output_type": "stream",
     "text": [
      "Row inserted 5\n"
     ]
    }
   ],
   "source": [
    "### Insert multiple records in Table\n",
    "query = \"INSERT INTO studentinfo (name, subject) VALUES (%s, %s)\"\n",
    "values = [(\"APC\", \"Stats\"),\n",
    "        (\"Joe\", \"Maths\"),\n",
    "        (\"CHHOKER VAI\",\"Data Science\"),\n",
    "        (\"JHADAV\",\"Data Science\"),\n",
    "        (\"CHETIBOD\",\"Maths\"),\n",
    "        (\"AYUSH PRATAP CHHOKER\",\"Data Science\")]\n",
    "cursor.executemany(query,values)\n",
    "print(\"Row inserted\",cursor.lastrowid)"
   ]
  },
  {
   "cell_type": "markdown",
   "id": "df8e6684",
   "metadata": {},
   "source": [
    "## Select All"
   ]
  },
  {
   "cell_type": "code",
   "execution_count": 16,
   "id": "5f4ea26e",
   "metadata": {},
   "outputs": [],
   "source": [
    "cursor = connection.cursor()\n",
    "cursor.execute(\"Select * from studentinfo\")"
   ]
  },
  {
   "cell_type": "code",
   "execution_count": 18,
   "id": "2d834080",
   "metadata": {},
   "outputs": [
    {
     "data": {
      "text/plain": [
       "[(1, 'John', 'Stats'),\n",
       " (2, 'AYUSH', 'Stats'),\n",
       " (3, 'ASHISH', 'Stats'),\n",
       " (4, 'AMAN', 'PT'),\n",
       " (5, 'APC', 'Stats'),\n",
       " (6, 'Joe', 'Maths'),\n",
       " (7, 'CHHOKER VAI', 'Data Science'),\n",
       " (8, 'JHADAV', 'Data Science'),\n",
       " (9, 'CHETIBOD', 'Maths'),\n",
       " (10, 'AYUSH PRATAP CHHOKER', 'Data Science')]"
      ]
     },
     "execution_count": 18,
     "metadata": {},
     "output_type": "execute_result"
    }
   ],
   "source": [
    "### Fetch All the Data\n",
    "cursor.fetchall()"
   ]
  },
  {
   "cell_type": "code",
   "execution_count": 32,
   "id": "98df8e98",
   "metadata": {},
   "outputs": [],
   "source": [
    "### Fetch One Record At A time\n",
    "cursor.fetchone()"
   ]
  },
  {
   "cell_type": "code",
   "execution_count": 33,
   "id": "765bbcf2",
   "metadata": {},
   "outputs": [],
   "source": [
    "lst=cursor.fetchall()"
   ]
  },
  {
   "cell_type": "code",
   "execution_count": 34,
   "id": "da6a266d",
   "metadata": {},
   "outputs": [],
   "source": [
    "for records in lst:\n",
    "    print(records)"
   ]
  },
  {
   "cell_type": "markdown",
   "id": "818f750c",
   "metadata": {},
   "source": [
    "## Selecting Particular Rows"
   ]
  },
  {
   "cell_type": "code",
   "execution_count": 35,
   "id": "472e30a9",
   "metadata": {},
   "outputs": [],
   "source": [
    "cursor.execute(\"Select * from studentinfo where name='AYUSH PRATAP CHHOKER'\")"
   ]
  },
  {
   "cell_type": "code",
   "execution_count": 36,
   "id": "186941e6",
   "metadata": {},
   "outputs": [
    {
     "data": {
      "text/plain": [
       "[(10, 'AYUSH PRATAP CHHOKER', 'Data Science')]"
      ]
     },
     "execution_count": 36,
     "metadata": {},
     "output_type": "execute_result"
    }
   ],
   "source": [
    "### Fetch All the Data\n",
    "cursor.fetchall()"
   ]
  },
  {
   "cell_type": "markdown",
   "id": "d3e9d01a",
   "metadata": {},
   "source": [
    "## Select Particular Columns"
   ]
  },
  {
   "cell_type": "code",
   "execution_count": 37,
   "id": "fa1caf02",
   "metadata": {},
   "outputs": [
    {
     "data": {
      "text/plain": [
       "[('Stats',),\n",
       " ('Stats',),\n",
       " ('Stats',),\n",
       " ('PT',),\n",
       " ('Stats',),\n",
       " ('Maths',),\n",
       " ('Data Science',),\n",
       " ('Data Science',),\n",
       " ('Maths',),\n",
       " ('Data Science',)]"
      ]
     },
     "execution_count": 37,
     "metadata": {},
     "output_type": "execute_result"
    }
   ],
   "source": [
    "cursor.execute(\"Select subject from studentinfo\")\n",
    "#### Fetch All\n",
    "cursor.fetchall()"
   ]
  },
  {
   "cell_type": "code",
   "execution_count": 38,
   "id": "f07e1b55",
   "metadata": {},
   "outputs": [
    {
     "data": {
      "text/plain": [
       "[('Stats',), ('PT',), ('Maths',), ('Data Science',)]"
      ]
     },
     "execution_count": 38,
     "metadata": {},
     "output_type": "execute_result"
    }
   ],
   "source": [
    "## Select Distinct Columns\n",
    "cursor.execute(\"SELECT DISTINCT subject from studentinfo\")\n",
    "#### Fetch All\n",
    "cursor.fetchall()"
   ]
  },
  {
   "cell_type": "code",
   "execution_count": 40,
   "id": "ea2806ff",
   "metadata": {},
   "outputs": [
    {
     "data": {
      "text/plain": [
       "[('APC', 'Stats'),\n",
       " ('CHHOKER VAI', 'Data Science'),\n",
       " ('JHADAV', 'Data Science'),\n",
       " ('AYUSH PRATAP CHHOKER', 'Data Science')]"
      ]
     },
     "execution_count": 40,
     "metadata": {},
     "output_type": "execute_result"
    }
   ],
   "source": [
    "cursor.execute(\"SELECT name, subject FROM studentinfo WHERE name = 'APC' OR subject = 'Data Science'\") \n",
    "#### Fetch All\n",
    "cursor.fetchall()"
   ]
  },
  {
   "cell_type": "markdown",
   "id": "cb584049",
   "metadata": {},
   "source": [
    "## Drop Table"
   ]
  },
  {
   "cell_type": "code",
   "execution_count": null,
   "id": "b24c8dea",
   "metadata": {},
   "outputs": [],
   "source": [
    "cursor.execute(\"DROP TABLE studentinfo\") "
   ]
  }
 ],
 "metadata": {
  "kernelspec": {
   "display_name": "Python 3 (ipykernel)",
   "language": "python",
   "name": "python3"
  },
  "language_info": {
   "codemirror_mode": {
    "name": "ipython",
    "version": 3
   },
   "file_extension": ".py",
   "mimetype": "text/x-python",
   "name": "python",
   "nbconvert_exporter": "python",
   "pygments_lexer": "ipython3",
   "version": "3.9.7"
  }
 },
 "nbformat": 4,
 "nbformat_minor": 5
}
